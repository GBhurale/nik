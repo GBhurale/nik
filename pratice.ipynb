{
 "cells": [
  {
   "cell_type": "code",
   "execution_count": null,
   "id": "a69608fd",
   "metadata": {},
   "outputs": [],
   "source": [
    "def get_sum(numbers):\n",
    "    total=0\n",
    "    for number in numbers:\n",
    "        if number & 1 ==0:\n",
    "            total +=number \n",
    "    return total \n",
    "\n",
    "numbers=[0,1,2,3,4]\n",
    "print(get_sum(numbers))"
   ]
  },
  {
   "cell_type": "code",
   "execution_count": 1,
   "id": "7f70903a",
   "metadata": {},
   "outputs": [
    {
     "ename": "IndentationError",
     "evalue": "unexpected indent (2347122584.py, line 11)",
     "output_type": "error",
     "traceback": [
      "\u001b[1;36m  Cell \u001b[1;32mIn[1], line 11\u001b[1;36m\u001b[0m\n\u001b[1;33m    4 & 1\u001b[0m\n\u001b[1;37m    ^\u001b[0m\n\u001b[1;31mIndentationError\u001b[0m\u001b[1;31m:\u001b[0m unexpected indent\n"
     ]
    }
   ],
   "source": [
    "# display output of only list of interger\n",
    "\n",
    "def list_display(l1):\n",
    "    l2=[]\n",
    "    for i in l1:\n",
    "        if i.isnumeric():\n",
    "            l2.append(i)\n",
    "    return l2\n",
    "\n",
    "l1=['1','two','3','4','five','6']\n",
    "list_display(l1)"
   ]
  },
  {
   "cell_type": "code",
   "execution_count": 2,
   "id": "0f172330",
   "metadata": {},
   "outputs": [
    {
     "name": "stdout",
     "output_type": "stream",
     "text": [
      "Enter number:5\n",
      "0\n",
      "1\n",
      "1\n",
      "2\n",
      "3\n"
     ]
    }
   ],
   "source": [
    "# add only interger into list and convert string into number\n",
    "def list_display(l1):\n",
    "    l2=[]\n",
    "    for i in l1:\n",
    "        if i.isnumeric():\n",
    "            l2.append(int(i))\n",
    "    return l2\n",
    "\n",
    "l1=['1','two','3','4','five','6']\n",
    "list_display(l1)"
   ]
  },
  {
   "cell_type": "code",
   "execution_count": null,
   "id": "5b9343f9",
   "metadata": {},
   "outputs": [],
   "source": [
    "import num2words as n\n",
    "l1=[1,3,2,5]\n",
    "l2=n(l1)"
   ]
  },
  {
   "cell_type": "code",
   "execution_count": null,
   "id": "757d9bc8",
   "metadata": {},
   "outputs": [],
   "source": [
    "# converting numbers into words in list format\n",
    "from num2words import num2words\n",
    "l1=[1,2,3,4,5,6,7,2,5,1,1,5,1,2,14,]\n",
    "l2=[]\n",
    "for i in l1:\n",
    "    l2.append(num2words(i))\n",
    "    \n",
    "print(l2,end='')"
   ]
  },
  {
   "cell_type": "code",
   "execution_count": null,
   "id": "321adaf5",
   "metadata": {},
   "outputs": [],
   "source": [
    "# converting numbers into words in list format\n",
    "from num2words import num2words\n",
    "l1=[]\n",
    "for i in range(1,15):\n",
    "    l1.append(num2words(i))\n",
    "print(l1,end='')"
   ]
  },
  {
   "cell_type": "code",
   "execution_count": null,
   "id": "5276643a",
   "metadata": {},
   "outputs": [],
   "source": [
    "# converting numbers into words in string format\n",
    "from num2words import num2words\n",
    "for i in range(1,15):\n",
    "    print(num2words(i),end=' ')\n"
   ]
  },
  {
   "cell_type": "code",
   "execution_count": 4,
   "id": "618f5a40",
   "metadata": {},
   "outputs": [
    {
     "data": {
      "text/plain": [
       "[1, 3, 4, 6]"
      ]
     },
     "execution_count": 4,
     "metadata": {},
     "output_type": "execute_result"
    }
   ],
   "source": [
    "# display only digit from list\n",
    "def list_display(l1):\n",
    "    l2=[]\n",
    "    for i in l1:\n",
    "        if i.isnumeric():\n",
    "            l2.append(int(i))\n",
    "    return l2\n",
    "\n",
    "l1=['1','two','3','4','five','6']\n",
    "list_display(l1)"
   ]
  },
  {
   "cell_type": "code",
   "execution_count": null,
   "id": "aed45739",
   "metadata": {},
   "outputs": [],
   "source": [
    "# Remove the nth index character from a nonempty string\n",
    "s1=input(\"Enter string:\")\n",
    "s2=list(s1)\n",
    "s2.pop(5)\n",
    "print(s2)"
   ]
  },
  {
   "cell_type": "code",
   "execution_count": null,
   "id": "e7a610e8",
   "metadata": {},
   "outputs": [],
   "source": [
    "# remove specific character using index\n",
    "def remove_char(str1):\n",
    "    s2=list(str1)\n",
    "    s2.pop(5)\n",
    "    return s2\n",
    "\n",
    "str1=input(\"Enter string:\")\n",
    "remove_char(str1)\n",
    "    "
   ]
  },
  {
   "cell_type": "code",
   "execution_count": null,
   "id": "3825f9c2",
   "metadata": {},
   "outputs": [],
   "source": [
    "# How to remove specific character using index\n",
    "str1='How are you?'\n",
    "print(str1)\n",
    "\n",
    "n=5\n",
    "\n",
    "s2=\"\"\n",
    "\n",
    "for char in range(0,len(str1)):\n",
    "    if char !=n:\n",
    "        s2 +=str1[char]\n",
    "        \n",
    "print(\"Update string:\",s2)"
   ]
  },
  {
   "cell_type": "code",
   "execution_count": null,
   "id": "ea4d0b47",
   "metadata": {},
   "outputs": [],
   "source": [
    "# How to remove specific number from list?\n",
    "\n",
    "l1=[1,2,1,2,3,1,2,3]\n",
    "print(l1)\n",
    "\n",
    "n=4\n",
    "\n",
    "s2=[]\n",
    "\n",
    "for num in range(0,len(l1)):\n",
    "    if num !=n:\n",
    "        s2.append(l1[num])\n",
    "        \n",
    "print(\"Update list:\",s2)"
   ]
  },
  {
   "cell_type": "code",
   "execution_count": null,
   "id": "c3bef39a",
   "metadata": {},
   "outputs": [],
   "source": [
    "t1=['a','b','c']\n",
    "\n",
    "dict.fromkeys(t1,5)"
   ]
  },
  {
   "cell_type": "code",
   "execution_count": null,
   "id": "2abace63",
   "metadata": {},
   "outputs": [],
   "source": [
    "x = \"ab8de5\"\n",
    "y = ['g','h','a','b','e','5']\n",
    "# 1. Combine x and y in one ds\n",
    "# 2. eliminate repeating elements\n",
    "# 3. Try to get this output: heb8"
   ]
  },
  {
   "cell_type": "code",
   "execution_count": null,
   "id": "840d3c0f",
   "metadata": {},
   "outputs": [],
   "source": [
    "x_temp=list(x)\n",
    "x_temp.extend(y)"
   ]
  },
  {
   "cell_type": "code",
   "execution_count": null,
   "id": "beaafd49",
   "metadata": {},
   "outputs": [],
   "source": [
    "x_temp"
   ]
  },
  {
   "cell_type": "code",
   "execution_count": null,
   "id": "acb998f6",
   "metadata": {},
   "outputs": [],
   "source": [
    "s1=set(x_temp)"
   ]
  },
  {
   "cell_type": "code",
   "execution_count": null,
   "id": "b270543c",
   "metadata": {},
   "outputs": [],
   "source": [
    "s1"
   ]
  },
  {
   "cell_type": "code",
   "execution_count": null,
   "id": "91f4306d",
   "metadata": {},
   "outputs": [],
   "source": [
    "l1=list(s1)"
   ]
  },
  {
   "cell_type": "code",
   "execution_count": null,
   "id": "2681b2f5",
   "metadata": {},
   "outputs": [],
   "source": [
    "l1.sort()"
   ]
  },
  {
   "cell_type": "code",
   "execution_count": null,
   "id": "65292121",
   "metadata": {},
   "outputs": [],
   "source": [
    "l1"
   ]
  },
  {
   "cell_type": "code",
   "execution_count": null,
   "id": "6cbca1ee",
   "metadata": {},
   "outputs": [],
   "source": [
    "l2=l1[7:0:-2] "
   ]
  },
  {
   "cell_type": "code",
   "execution_count": null,
   "id": "5b428d6f",
   "metadata": {},
   "outputs": [],
   "source": [
    "l2"
   ]
  },
  {
   "cell_type": "code",
   "execution_count": null,
   "id": "c30bbcbd",
   "metadata": {},
   "outputs": [],
   "source": [
    "''.join(l2)  #heb8"
   ]
  },
  {
   "cell_type": "code",
   "execution_count": 5,
   "id": "cde10587",
   "metadata": {},
   "outputs": [
    {
     "name": "stdout",
     "output_type": "stream",
     "text": [
      "Digit_list: [1, 4, 9, 9, 1, 4]\n",
      "Alpha_list: ['a', 'b', 'c', 'd', 'e', 'f', 'g']\n"
     ]
    }
   ],
   "source": [
    "a = \"1a4b9c9d1e4fg\"\n",
    "\n",
    "# Separate the digits and alphabets into\n",
    "# two different lists and find the sum\n",
    "# of square roots of each digit\n",
    "\n",
    "\n",
    "def alpha_num(str1):\n",
    "    digit=[]\n",
    "    alpha=[]\n",
    "    for i in str1:\n",
    "        if i.isnumeric():\n",
    "            digit.append(int(i))\n",
    "        else:\n",
    "            alpha.append(i)\n",
    "    return digit,alpha\n",
    "\n",
    "\n",
    "a,b=alpha_num(a)\n",
    "print(\"Digit_list:\",a)\n",
    "print(\"Alpha_list:\",b)\n",
    "            "
   ]
  },
  {
   "cell_type": "code",
   "execution_count": 9,
   "id": "2798e332",
   "metadata": {},
   "outputs": [
    {
     "name": "stdout",
     "output_type": "stream",
     "text": [
      "Digit_list: [1, 4, 9, 9, 1, 4]\n",
      "Alpha_list: ['a', 'b', 'c', 'd', 'e', 'f', 'g']\n"
     ]
    }
   ],
   "source": [
    "a = \"1a4b9c9d1e4fg\"\n",
    "\n",
    "# Separate the digits and alphabets into\n",
    "# two different lists and find the sum\n",
    "# of square roots of each digit\n",
    "\n",
    "\n",
    "def alpha_num(str1):\n",
    "    digit=[]\n",
    "    alpha=[]\n",
    "    for i in str1:\n",
    "        if i.isnumeric():\n",
    "            digit.append(int(i))\n",
    "        else:\n",
    "            alpha.append(i)\n",
    "    return digit,alpha\n",
    "\n",
    "\n",
    "a,b=alpha_num(a)\n",
    "print(\"Digit_list:\",a)\n",
    "print(\"Alpha_list:\",b)\n",
    "            "
   ]
  },
  {
   "cell_type": "code",
   "execution_count": 12,
   "id": "cd293275",
   "metadata": {},
   "outputs": [
    {
     "name": "stdout",
     "output_type": "stream",
     "text": [
      "12.0\n"
     ]
    }
   ],
   "source": [
    "import math\n",
    "sum=0\n",
    "for i in a:\n",
    "    sum=sum + math.sqrt(i)\n",
    "\n",
    "print(sum)"
   ]
  },
  {
   "cell_type": "code",
   "execution_count": 13,
   "id": "7f411333",
   "metadata": {},
   "outputs": [
    {
     "name": "stdout",
     "output_type": "stream",
     "text": [
      "2\n"
     ]
    }
   ],
   "source": [
    "# For s = \"abc\" and t = \"bac\", the permutation difference of s and t is equal to the sum of:\n",
    "\n",
    "# The absolute difference between the index of the occurrence of \"a\" in s and the index of the occurrence of \"a\" in t.\n",
    "# The absolute difference between the index of the occurrence of \"b\" in s and the index of the occurrence of \"b\" in t.\n",
    "# The absolute difference between the index of the occurrence of \"c\" in s and the index of the occurrence of \"c\" in t.\n",
    "# That is, the permutation difference between s and t is equal to |0 - 1| + |2 - 2| + |1 - 0| = 2.\n",
    "\n",
    "s = \"abc\"\n",
    "t = \"bac\"\n",
    "sum=0\n",
    "for i in s:\n",
    "    if i in t:\n",
    "        res=abs(s.index(i) - t.index(i))\n",
    "        sum=sum+res \n",
    "print(sum)"
   ]
  },
  {
   "cell_type": "code",
   "execution_count": null,
   "id": "615fe33c",
   "metadata": {},
   "outputs": [],
   "source": [
    "# Another question basesd on above\n",
    "s = \"abcde\"\n",
    "t = \"edbac\"\n",
    "sum=0\n",
    "for i in s:\n",
    "    if i in t:\n",
    "        res=abs(s.index(i) - t.index(i))\n",
    "        sum=sum+res \n",
    "print(sum)"
   ]
  },
  {
   "cell_type": "code",
   "execution_count": null,
   "id": "d6f3225d",
   "metadata": {},
   "outputs": [],
   "source": []
  },
  {
   "cell_type": "code",
   "execution_count": null,
   "id": "39f0e24a",
   "metadata": {},
   "outputs": [],
   "source": [
    "a = [1, 1, 2, 1, 3, 4, 5, 4, 3]\n",
    "\n",
    "#find the  frequency of each element in the list\n",
    "d={}\n",
    "for i in a:\n",
    "    if i in d:\n",
    "        d[i]+=1\n",
    "    else:\n",
    "        d[i]=1\n",
    "        \n",
    "print(d)"
   ]
  },
  {
   "cell_type": "code",
   "execution_count": null,
   "id": "9c67cd55",
   "metadata": {},
   "outputs": [],
   "source": [
    "# Program to find the maximum element in a list\n",
    "def max_number(list1):\n",
    "    n=len(list1)\n",
    "    for i in range(n):\n",
    "        for j in range(0,n-i-1):\n",
    "            if list1[j] > list1[j+1]:\n",
    "                temp=list1[j]\n",
    "                list1[j]=list1[j+1]\n",
    "                list1[j+1]=temp\n",
    "                \n",
    "    return list1[-1]\n",
    "\n",
    "    \n",
    "a = [1, 1, 2, 1, 3, 4, 5, 4, 3]\n",
    "max_number(a)"
   ]
  },
  {
   "cell_type": "code",
   "execution_count": null,
   "id": "4625812e",
   "metadata": {},
   "outputs": [],
   "source": [
    "# Program to find the maximum element in a list\n",
    "def max_number(list1):\n",
    "    res=0\n",
    "    for i in list1:\n",
    "        if i > res:\n",
    "            res=i \n",
    "    return res \n",
    "\n",
    "a = [1, 1, 2, 1, 3, 4, 5, 4, 3]\n",
    "max_number(a)\n"
   ]
  },
  {
   "cell_type": "code",
   "execution_count": null,
   "id": "b56f2e87",
   "metadata": {},
   "outputs": [],
   "source": [
    "# How to find 2nd max element\n",
    "def max_element(l1):\n",
    "    n=len(l1)\n",
    "    for i in range(n-1,0,-1):\n",
    "        for j in range(i):\n",
    "            if l1[j] > l1[j+1]:\n",
    "                temp=l1[j]\n",
    "                l1[j]=l1[j+1]\n",
    "                l1[j+1]=temp\n",
    "    return l1[-2]\n",
    "\n",
    "l1=[1,2,651,52,8,581,62,63,4,3]\n",
    "print(\"Maximum number is:\",max_element(l1))"
   ]
  },
  {
   "cell_type": "code",
   "execution_count": null,
   "id": "aa813927",
   "metadata": {},
   "outputs": [],
   "source": [
    "1.add even numbered indexes to the total\n",
    "2.subtract odd numbered indexes from the total\n",
    "3.index 0 is considered an even index\n",
    "\n",
    "def even_odd_list(lst):\n",
    "    even_list = []\n",
    "    odd_list = []\n",
    "    for i in range(len(lst)):\n",
    "        if i % 2 == 0:\n",
    "            even_list.append(lst[i])\n",
    "        else:\n",
    "            odd_list.append(lst[i])\n",
    "    return even_list, odd_list\n",
    "def calculation(lst):\n",
    "    even_list, odd_list = even_odd_list(lst)\n",
    "    even_sum =0\n",
    "    for i in even_list:\n",
    "        even_sum=even_sum+i\n",
    "        \n",
    "    odd_sum = 0\n",
    "    for i in odd_list:\n",
    "        odd_sum=odd_sum+i\n",
    "        \n",
    "    addition = even_sum\n",
    "    subtraction = - odd_sum\n",
    "    \n",
    "    return addition, subtraction\n",
    "\n",
    "lst=[1,2,3,4,5,6,7,8,9,10]\n",
    "addition,substraction = calculation(lst)\n",
    "print(addition)\n",
    "print(substraction)\n"
   ]
  },
  {
   "cell_type": "code",
   "execution_count": null,
   "id": "b22c307a",
   "metadata": {},
   "outputs": [],
   "source": [
    "# Write a program in Python to check whether an integer is Armstrong number or not\n",
    "def armstrong_number(num):\n",
    "    sum=0\n",
    "    order=len(str(num))\n",
    "    num_1=num\n",
    "    \n",
    "    while num > 0:\n",
    "        digit=num%10\n",
    "        sum=sum + digit ** order\n",
    "        num=num//10\n",
    "    \n",
    "    if num_1==sum:\n",
    "        print(f\"{num_1} is armstrong number\")\n",
    "    else:\n",
    "        print(f\"{num_1} is not armstrong number\")\n",
    " \n",
    "n=int(input(\"Enter number:\"))\n",
    "armstrong_number(n)\n",
    "        "
   ]
  },
  {
   "cell_type": "code",
   "execution_count": null,
   "id": "8ff73525",
   "metadata": {},
   "outputs": [],
   "source": [
    "# Write a program in Python to check whether an integer is prime or not?\n",
    "def prime_number(num):\n",
    "    if num > 1:\n",
    "        for j in range(2,num):\n",
    "            \n",
    "            if num%j==0:\n",
    "                print(f\"{num} is not prime number\")\n",
    "                break \n",
    "                   \n",
    "        else:\n",
    "             print(f\"{num} is prime number\")   \n",
    "            \n",
    "\n",
    "\n",
    "n=int(input(\"Enter number:\"))\n",
    "prime_number(n)\n"
   ]
  },
  {
   "cell_type": "code",
   "execution_count": null,
   "id": "bd66e396",
   "metadata": {},
   "outputs": [],
   "source": [
    "# find prime number between 1 to  100?\n",
    "def prime_number(num):\n",
    "    for i in range(num+1):\n",
    "        if i > 1:\n",
    "            for j in range(2,i):\n",
    "                if i%j==0:\n",
    "                    break \n",
    "            else:\n",
    "                print(i,end=',')\n",
    "                \n",
    "n=int(input(\"Enter number:\"))\n",
    "prime_number(n)"
   ]
  },
  {
   "cell_type": "code",
   "execution_count": 16,
   "id": "7594bae9",
   "metadata": {},
   "outputs": [
    {
     "name": "stdout",
     "output_type": "stream",
     "text": [
      "1\n",
      "1\n",
      "2\n",
      "3\n",
      "5\n",
      "8\n",
      "13\n",
      "21\n",
      "34\n"
     ]
    }
   ],
   "source": [
    "# fibonacci series upto 50\n",
    "x,y=0,1\n",
    "while y < 50:\n",
    "    print(y)\n",
    "    x,y=y,x+y"
   ]
  },
  {
   "cell_type": "code",
   "execution_count": null,
   "id": "25c64812",
   "metadata": {},
   "outputs": [],
   "source": []
  },
  {
   "cell_type": "code",
   "execution_count": null,
   "id": "3316f8e2",
   "metadata": {},
   "outputs": [],
   "source": []
  },
  {
   "cell_type": "code",
   "execution_count": null,
   "id": "7729c40a",
   "metadata": {},
   "outputs": [],
   "source": [
    "# Python program to display the Fibonacci sequence\n",
    "\n",
    "def recur_fibo(n):\n",
    "    if n <= 1:\n",
    "        return n\n",
    "    else:\n",
    "        return(recur_fibo(n-1) + recur_fibo(n-2))\n",
    "\n",
    "nterms = 5\n",
    "\n",
    "# check if the number of terms is valid\n",
    "if nterms <= 0:\n",
    "    print(\"Plese enter a positive integer\")\n",
    "else:\n",
    "    print(\"Fibonacci sequence:\")\n",
    "    for i in range(nterms):\n",
    "        print(recur_fibo(i))"
   ]
  },
  {
   "cell_type": "code",
   "execution_count": 17,
   "id": "8926fa98",
   "metadata": {},
   "outputs": [
    {
     "name": "stdout",
     "output_type": "stream",
     "text": [
      "Enter number:5\n",
      "0\n",
      "1\n",
      "1\n",
      "2\n",
      "3\n"
     ]
    }
   ],
   "source": [
    "# fibonaci series using recursive method\n",
    "num=int(input(\"Enter number:\"))\n",
    "def fib(n):\n",
    "    if n==0:\n",
    "        return 0\n",
    "    elif n==1:\n",
    "        return 1\n",
    "    else:\n",
    "        return fib(n-2)+fib(n-1)\n",
    "    \n",
    "for i in range(0,num):\n",
    "    print(fib(i))"
   ]
  },
  {
   "cell_type": "code",
   "execution_count": 18,
   "id": "a57e0fd9",
   "metadata": {},
   "outputs": [
    {
     "name": "stdout",
     "output_type": "stream",
     "text": [
      "Enter number:5\n",
      "0\n",
      "1\n",
      "1\n",
      "2\n",
      "3\n"
     ]
    }
   ],
   "source": [
    "# fibonaci series using iterative\n",
    "num=int(input(\"Enter number:\"))\n",
    "x,y=0,1\n",
    "for i in range(0,num):\n",
    "    if i <= 1:\n",
    "        print(i)\n",
    "    else:\n",
    "        result=x+y \n",
    "        x=y \n",
    "        y=result \n",
    "        print(result)"
   ]
  },
  {
   "cell_type": "code",
   "execution_count": 24,
   "id": "bf91c2a3",
   "metadata": {},
   "outputs": [
    {
     "name": "stdin",
     "output_type": "stream",
     "text": [
      " 5\n"
     ]
    },
    {
     "name": "stdout",
     "output_type": "stream",
     "text": [
      "Prime\n"
     ]
    }
   ],
   "source": [
    "def prime(num):\n",
    "    if num>1:\n",
    "        for i in range(2,num):\n",
    "            if num%i==0:\n",
    "                print('NOT')\n",
    "        else:\n",
    "            print('Prime')\n",
    "\n",
    "num=int(input())\n",
    "prime(num)"
   ]
  },
  {
   "cell_type": "code",
   "execution_count": null,
   "id": "a4563c8e-ba0c-4d5e-bcd7-d40d8adefd55",
   "metadata": {},
   "outputs": [],
   "source": []
  },
  {
   "cell_type": "code",
   "execution_count": null,
   "id": "da6e0edd-99aa-4c95-bd0d-071b4df35bb4",
   "metadata": {},
   "outputs": [],
   "source": []
  },
  {
   "cell_type": "code",
   "execution_count": null,
   "id": "7da7798f-4240-45c5-87e5-444a8d425290",
   "metadata": {},
   "outputs": [],
   "source": []
  },
  {
   "cell_type": "code",
   "execution_count": null,
   "id": "14a97741-a3c3-4079-b208-032bcdb421a1",
   "metadata": {},
   "outputs": [],
   "source": []
  },
  {
   "cell_type": "code",
   "execution_count": null,
   "id": "2ce65504-3d0a-448f-a377-1ac9dedec164",
   "metadata": {},
   "outputs": [],
   "source": []
  },
  {
   "cell_type": "code",
   "execution_count": null,
   "id": "07b5b558-c407-4606-a7a5-b751a3456218",
   "metadata": {},
   "outputs": [],
   "source": []
  },
  {
   "cell_type": "code",
   "execution_count": null,
   "id": "a048639d-c64b-405f-8281-80d0296d2110",
   "metadata": {},
   "outputs": [],
   "source": []
  },
  {
   "cell_type": "code",
   "execution_count": null,
   "id": "a0c41777-0732-4831-9106-ef5563420a71",
   "metadata": {},
   "outputs": [],
   "source": []
  },
  {
   "cell_type": "code",
   "execution_count": null,
   "id": "0e0a8136-e892-4b2a-8d30-693a33497091",
   "metadata": {},
   "outputs": [],
   "source": []
  },
  {
   "cell_type": "code",
   "execution_count": null,
   "id": "89f2f52c-95e4-4e20-9c37-980bb6316aff",
   "metadata": {},
   "outputs": [],
   "source": []
  },
  {
   "cell_type": "code",
   "execution_count": null,
   "id": "7fb65743-1f26-44b4-abc9-158b915cc36c",
   "metadata": {},
   "outputs": [],
   "source": []
  },
  {
   "cell_type": "code",
   "execution_count": null,
   "id": "ac8b0e6b-5f8d-4714-a372-8812d7c048fd",
   "metadata": {},
   "outputs": [],
   "source": []
  },
  {
   "cell_type": "code",
   "execution_count": null,
   "id": "73262969-dea3-4ed8-9158-ea85740a8cbd",
   "metadata": {},
   "outputs": [],
   "source": []
  },
  {
   "cell_type": "code",
   "execution_count": null,
   "id": "533e9fe4-18a4-442b-92eb-438a22f91de0",
   "metadata": {},
   "outputs": [],
   "source": []
  },
  {
   "cell_type": "code",
   "execution_count": null,
   "id": "38ee2b2d-c676-4a5e-99c8-d1e1e0450ffe",
   "metadata": {},
   "outputs": [],
   "source": []
  },
  {
   "cell_type": "code",
   "execution_count": null,
   "id": "dc679249-510c-47ed-9e3f-7ce33939e87d",
   "metadata": {},
   "outputs": [],
   "source": []
  },
  {
   "cell_type": "code",
   "execution_count": null,
   "id": "28518c7d-0e3d-4635-b7a2-e3d809f6abf9",
   "metadata": {},
   "outputs": [],
   "source": []
  },
  {
   "cell_type": "code",
   "execution_count": null,
   "id": "3265bdff-ff22-46dc-a8c9-e6fdfb29477f",
   "metadata": {},
   "outputs": [],
   "source": []
  },
  {
   "cell_type": "code",
   "execution_count": null,
   "id": "2c486140-6928-4803-ae16-146d9be5f855",
   "metadata": {},
   "outputs": [],
   "source": []
  },
  {
   "cell_type": "code",
   "execution_count": null,
   "id": "187609c9-1dcc-41f7-85eb-a2b79b957baf",
   "metadata": {},
   "outputs": [],
   "source": []
  },
  {
   "cell_type": "code",
   "execution_count": null,
   "id": "2f53a00c-23bd-41ff-9495-0b0ec992c6c0",
   "metadata": {},
   "outputs": [],
   "source": []
  },
  {
   "cell_type": "code",
   "execution_count": null,
   "id": "b61a99bc",
   "metadata": {},
   "outputs": [],
   "source": []
  }
 ],
 "metadata": {
  "kernelspec": {
   "display_name": "Python 3 (ipykernel)",
   "language": "python",
   "name": "python3"
  },
  "language_info": {
   "codemirror_mode": {
    "name": "ipython",
    "version": 3
   },
   "file_extension": ".py",
   "mimetype": "text/x-python",
   "name": "python",
   "nbconvert_exporter": "python",
   "pygments_lexer": "ipython3",
   "version": "3.11.7"
  }
 },
 "nbformat": 4,
 "nbformat_minor": 5
}
